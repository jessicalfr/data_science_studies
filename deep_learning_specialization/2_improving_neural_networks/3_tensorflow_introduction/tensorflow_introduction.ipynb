{
 "cells": [
  {
   "attachments": {},
   "cell_type": "markdown",
   "metadata": {},
   "source": [
    "# Tensorflow Introduction"
   ]
  },
  {
   "cell_type": "code",
   "execution_count": 1,
   "metadata": {},
   "outputs": [
    {
     "name": "stderr",
     "output_type": "stream",
     "text": [
      "2023-01-09 11:56:54.161063: W tensorflow/stream_executor/platform/default/dso_loader.cc:64] Could not load dynamic library 'libcudart.so.11.0'; dlerror: libcudart.so.11.0: cannot open shared object file: No such file or directory\n",
      "2023-01-09 11:56:54.161079: I tensorflow/stream_executor/cuda/cudart_stub.cc:29] Ignore above cudart dlerror if you do not have a GPU set up on your machine.\n"
     ]
    }
   ],
   "source": [
    "import h5py\n",
    "import numpy as np\n",
    "import tensorflow as tf\n",
    "import matplotlib.pyplot as plt\n",
    "from tensorflow.python.framework.ops import EagerTensor\n",
    "from tensorflow.python.ops.resource_variable_ops import ResourceVariable\n",
    "import time"
   ]
  },
  {
   "cell_type": "code",
   "execution_count": 2,
   "metadata": {},
   "outputs": [
    {
     "data": {
      "text/plain": [
       "'2.9.0'"
      ]
     },
     "execution_count": 2,
     "metadata": {},
     "output_type": "execute_result"
    }
   ],
   "source": [
    "# check tensorflow version\n",
    "tf.__version__"
   ]
  },
  {
   "attachments": {},
   "cell_type": "markdown",
   "metadata": {},
   "source": [
    "### Basic Optimization with GradientTape"
   ]
  },
  {
   "attachments": {},
   "cell_type": "markdown",
   "metadata": {},
   "source": [
    "- `GradientTape` makes using tensorflow simpler. We only need to implement forward propagation through a computational graph and the derivatives will be computed by tensorflow.\n",
    "- `tf.Tensor` are equivalents of numpy arrays.\n",
    "- `tf.Variables` define variables."
   ]
  },
  {
   "cell_type": "code",
   "execution_count": 3,
   "metadata": {},
   "outputs": [],
   "source": [
    "# read datasets\n",
    "train_dataset = h5py.File('datasets/train_signs.h5', \"r\")\n",
    "test_dataset = h5py.File('datasets/test_signs.h5', \"r\")"
   ]
  },
  {
   "cell_type": "code",
   "execution_count": 4,
   "metadata": {},
   "outputs": [
    {
     "name": "stderr",
     "output_type": "stream",
     "text": [
      "2023-01-09 11:56:55.391910: I tensorflow/stream_executor/cuda/cuda_gpu_executor.cc:975] successful NUMA node read from SysFS had negative value (-1), but there must be at least one NUMA node, so returning NUMA node zero\n",
      "2023-01-09 11:56:55.392209: W tensorflow/stream_executor/platform/default/dso_loader.cc:64] Could not load dynamic library 'libcudart.so.11.0'; dlerror: libcudart.so.11.0: cannot open shared object file: No such file or directory\n",
      "2023-01-09 11:56:55.392240: W tensorflow/stream_executor/platform/default/dso_loader.cc:64] Could not load dynamic library 'libcublas.so.11'; dlerror: libcublas.so.11: cannot open shared object file: No such file or directory\n",
      "2023-01-09 11:56:55.392265: W tensorflow/stream_executor/platform/default/dso_loader.cc:64] Could not load dynamic library 'libcublasLt.so.11'; dlerror: libcublasLt.so.11: cannot open shared object file: No such file or directory\n",
      "2023-01-09 11:56:55.392289: W tensorflow/stream_executor/platform/default/dso_loader.cc:64] Could not load dynamic library 'libcufft.so.10'; dlerror: libcufft.so.10: cannot open shared object file: No such file or directory\n",
      "2023-01-09 11:56:55.392312: W tensorflow/stream_executor/platform/default/dso_loader.cc:64] Could not load dynamic library 'libcurand.so.10'; dlerror: libcurand.so.10: cannot open shared object file: No such file or directory\n",
      "2023-01-09 11:56:55.392335: W tensorflow/stream_executor/platform/default/dso_loader.cc:64] Could not load dynamic library 'libcusolver.so.11'; dlerror: libcusolver.so.11: cannot open shared object file: No such file or directory\n",
      "2023-01-09 11:56:55.392358: W tensorflow/stream_executor/platform/default/dso_loader.cc:64] Could not load dynamic library 'libcusparse.so.11'; dlerror: libcusparse.so.11: cannot open shared object file: No such file or directory\n",
      "2023-01-09 11:56:55.392380: W tensorflow/stream_executor/platform/default/dso_loader.cc:64] Could not load dynamic library 'libcudnn.so.8'; dlerror: libcudnn.so.8: cannot open shared object file: No such file or directory\n",
      "2023-01-09 11:56:55.392386: W tensorflow/core/common_runtime/gpu/gpu_device.cc:1850] Cannot dlopen some GPU libraries. Please make sure the missing libraries mentioned above are installed properly if you would like to use GPU. Follow the guide at https://www.tensorflow.org/install/gpu for how to download and setup the required libraries for your platform.\n",
      "Skipping registering GPU devices...\n",
      "2023-01-09 11:56:55.392790: I tensorflow/core/platform/cpu_feature_guard.cc:193] This TensorFlow binary is optimized with oneAPI Deep Neural Network Library (oneDNN) to use the following CPU instructions in performance-critical operations:  AVX2 FMA\n",
      "To enable them in other operations, rebuild TensorFlow with the appropriate compiler flags.\n"
     ]
    }
   ],
   "source": [
    "x_train = tf.data.Dataset.from_tensor_slices(train_dataset['train_set_x'])\n",
    "y_train = tf.data.Dataset.from_tensor_slices(train_dataset['train_set_y'])\n",
    "\n",
    "x_test = tf.data.Dataset.from_tensor_slices(test_dataset['test_set_x'])\n",
    "y_test = tf.data.Dataset.from_tensor_slices(test_dataset['test_set_y'])"
   ]
  },
  {
   "attachments": {},
   "cell_type": "markdown",
   "metadata": {},
   "source": [
    "*Warnings appear because I'm not using the GPU for now.*"
   ]
  },
  {
   "cell_type": "code",
   "execution_count": 5,
   "metadata": {},
   "outputs": [
    {
     "data": {
      "text/plain": [
       "tensorflow.python.data.ops.dataset_ops.TensorSliceDataset"
      ]
     },
     "execution_count": 5,
     "metadata": {},
     "output_type": "execute_result"
    }
   ],
   "source": [
    "type(x_train)"
   ]
  },
  {
   "cell_type": "code",
   "execution_count": 6,
   "metadata": {},
   "outputs": [
    {
     "name": "stdout",
     "output_type": "stream",
     "text": [
      "TensorSpec(shape=(), dtype=tf.int64, name=None)\n"
     ]
    }
   ],
   "source": [
    "# inspect shape and dtype\n",
    "print(y_train.element_spec)"
   ]
  },
  {
   "attachments": {},
   "cell_type": "markdown",
   "metadata": {},
   "source": [
    "To access the content of tensorflow datasets we need to iterate over them."
   ]
  },
  {
   "cell_type": "code",
   "execution_count": 7,
   "metadata": {},
   "outputs": [
    {
     "name": "stdout",
     "output_type": "stream",
     "text": [
      "tf.Tensor(\n",
      "[[[227 220 214]\n",
      "  [227 221 215]\n",
      "  [227 222 215]\n",
      "  ...\n",
      "  [232 230 224]\n",
      "  [231 229 222]\n",
      "  [230 229 221]]\n",
      "\n",
      " [[227 221 214]\n",
      "  [227 221 215]\n",
      "  [228 221 215]\n",
      "  ...\n",
      "  [232 230 224]\n",
      "  [231 229 222]\n",
      "  [231 229 221]]\n",
      "\n",
      " [[227 221 214]\n",
      "  [227 221 214]\n",
      "  [227 221 215]\n",
      "  ...\n",
      "  [232 230 224]\n",
      "  [231 229 223]\n",
      "  [230 229 221]]\n",
      "\n",
      " ...\n",
      "\n",
      " [[119  81  51]\n",
      "  [124  85  55]\n",
      "  [127  87  58]\n",
      "  ...\n",
      "  [210 211 211]\n",
      "  [211 212 210]\n",
      "  [210 211 210]]\n",
      "\n",
      " [[119  79  51]\n",
      "  [124  84  55]\n",
      "  [126  85  56]\n",
      "  ...\n",
      "  [210 211 210]\n",
      "  [210 211 210]\n",
      "  [209 210 209]]\n",
      "\n",
      " [[119  81  51]\n",
      "  [123  83  55]\n",
      "  [122  82  54]\n",
      "  ...\n",
      "  [209 210 210]\n",
      "  [209 210 209]\n",
      "  [208 209 209]]], shape=(64, 64, 3), dtype=uint8)\n"
     ]
    }
   ],
   "source": [
    "# creating a python iterator with iter\n",
    "print(next(iter(x_train)))"
   ]
  },
  {
   "cell_type": "code",
   "execution_count": 8,
   "metadata": {},
   "outputs": [
    {
     "name": "stdout",
     "output_type": "stream",
     "text": [
      "tf.Tensor(\n",
      "[[[227 220 214]\n",
      "  [227 221 215]\n",
      "  [227 222 215]\n",
      "  ...\n",
      "  [232 230 224]\n",
      "  [231 229 222]\n",
      "  [230 229 221]]\n",
      "\n",
      " [[227 221 214]\n",
      "  [227 221 215]\n",
      "  [228 221 215]\n",
      "  ...\n",
      "  [232 230 224]\n",
      "  [231 229 222]\n",
      "  [231 229 221]]\n",
      "\n",
      " [[227 221 214]\n",
      "  [227 221 214]\n",
      "  [227 221 215]\n",
      "  ...\n",
      "  [232 230 224]\n",
      "  [231 229 223]\n",
      "  [230 229 221]]\n",
      "\n",
      " ...\n",
      "\n",
      " [[119  81  51]\n",
      "  [124  85  55]\n",
      "  [127  87  58]\n",
      "  ...\n",
      "  [210 211 211]\n",
      "  [211 212 210]\n",
      "  [210 211 210]]\n",
      "\n",
      " [[119  79  51]\n",
      "  [124  84  55]\n",
      "  [126  85  56]\n",
      "  ...\n",
      "  [210 211 210]\n",
      "  [210 211 210]\n",
      "  [209 210 209]]\n",
      "\n",
      " [[119  81  51]\n",
      "  [123  83  55]\n",
      "  [122  82  54]\n",
      "  ...\n",
      "  [209 210 210]\n",
      "  [209 210 209]\n",
      "  [208 209 209]]], shape=(64, 64, 3), dtype=uint8)\n"
     ]
    }
   ],
   "source": [
    "# creating a loop\n",
    "for element in x_train:\n",
    "    print(element)\n",
    "    break"
   ]
  },
  {
   "attachments": {},
   "cell_type": "markdown",
   "metadata": {},
   "source": [
    "To transform tensorflow arrays we need to invoke the `map` method and pass a function as an argument."
   ]
  },
  {
   "cell_type": "code",
   "execution_count": 9,
   "metadata": {},
   "outputs": [],
   "source": [
    "def normalize(image):\n",
    "    \"\"\"\n",
    "    Transform an image into a tensor of shape (64 * 64 * 3, 1)\n",
    "    and normalize its components.\n",
    "    \n",
    "    Arguments\n",
    "    image - Tensor.\n",
    "    \n",
    "    Returns: \n",
    "    result -- Transformed tensor \n",
    "    \"\"\"\n",
    "    image = tf.cast(image, tf.float32) / 256.0\n",
    "    image = tf.reshape(image, [-1,1])\n",
    "    return image"
   ]
  },
  {
   "cell_type": "code",
   "execution_count": 10,
   "metadata": {},
   "outputs": [],
   "source": [
    "new_train = x_train.map(normalize)\n",
    "new_test = x_test.map(normalize)"
   ]
  },
  {
   "cell_type": "code",
   "execution_count": 11,
   "metadata": {},
   "outputs": [
    {
     "data": {
      "text/plain": [
       "TensorSpec(shape=(12288, 1), dtype=tf.float32, name=None)"
      ]
     },
     "execution_count": 11,
     "metadata": {},
     "output_type": "execute_result"
    }
   ],
   "source": [
    "new_train.element_spec"
   ]
  },
  {
   "cell_type": "code",
   "execution_count": 12,
   "metadata": {},
   "outputs": [
    {
     "name": "stdout",
     "output_type": "stream",
     "text": [
      "tf.Tensor(\n",
      "[[0.88671875]\n",
      " [0.859375  ]\n",
      " [0.8359375 ]\n",
      " ...\n",
      " [0.8125    ]\n",
      " [0.81640625]\n",
      " [0.81640625]], shape=(12288, 1), dtype=float32)\n"
     ]
    }
   ],
   "source": [
    "print(next(iter(new_train)))"
   ]
  },
  {
   "attachments": {},
   "cell_type": "markdown",
   "metadata": {},
   "source": [
    "**Linear function**\n",
    "\n",
    "We'll compute $WX + B$ where $W$, $X$ and $b$ are drawn from a random normal distribution."
   ]
  },
  {
   "cell_type": "code",
   "execution_count": 13,
   "metadata": {},
   "outputs": [],
   "source": [
    "def linear_function():\n",
    "    \"\"\"\n",
    "    Implements a linear function: \n",
    "            Initializes X to be a random tensor of shape (3,1)\n",
    "            Initializes W to be a random tensor of shape (4,3)\n",
    "            Initializes b to be a random tensor of shape (4,1)\n",
    "    Returns: \n",
    "    result -- Y = WX + b \n",
    "    \"\"\"\n",
    "\n",
    "    np.random.seed(1)\n",
    "\n",
    "    X = tf.constant(np.random.randn(3,1), name = 'X')\n",
    "    W = tf.Variable(np.random.randn(4,3), name = 'W')\n",
    "    b = tf.Variable(np.random.randn(4,1), name = 'b')\n",
    "    Y = tf.add(tf.matmul(W, X), b)\n",
    "\n",
    "    return Y\n"
   ]
  },
  {
   "cell_type": "code",
   "execution_count": 14,
   "metadata": {},
   "outputs": [
    {
     "name": "stdout",
     "output_type": "stream",
     "text": [
      "tf.Tensor(\n",
      "[[-2.15657382]\n",
      " [ 2.95891446]\n",
      " [-1.08926781]\n",
      " [-0.84538042]], shape=(4, 1), dtype=float64)\n",
      "\u001b[92mAll test passed\n"
     ]
    }
   ],
   "source": [
    "# testing the function\n",
    "result = linear_function()\n",
    "print(result)\n",
    "\n",
    "assert type(result) == EagerTensor, \"Use the TensorFlow API\"\n",
    "assert np.allclose(result, [[-2.15657382], [ 2.95891446], [-1.08926781], [-0.84538042]]), \"Error\"\n",
    "print(\"\\033[92mAll test passed\")"
   ]
  },
  {
   "attachments": {},
   "cell_type": "markdown",
   "metadata": {},
   "source": [
    "**Sigmoid function**\n",
    "\n",
    "`tf.keras.activations.sigmoid` requires `float16`, `float32`, `float64`, `complex64`, or `complex128`"
   ]
  },
  {
   "cell_type": "code",
   "execution_count": 15,
   "metadata": {},
   "outputs": [],
   "source": [
    "def sigmoid(z):\n",
    "    \n",
    "    \"\"\"\n",
    "    Computes the sigmoid of z\n",
    "    \n",
    "    Arguments:\n",
    "    z -- input value, scalar or vector\n",
    "    \n",
    "    Returns: \n",
    "    a -- (tf.float32) the sigmoid of z\n",
    "    \"\"\"\n",
    "\n",
    "    z = tf.cast(z, tf.float32)\n",
    "    a = tf.keras.activations.sigmoid(z)\n",
    "\n",
    "    return a"
   ]
  },
  {
   "cell_type": "code",
   "execution_count": 16,
   "metadata": {},
   "outputs": [
    {
     "name": "stdout",
     "output_type": "stream",
     "text": [
      "type: <class 'tensorflow.python.framework.ops.EagerTensor'>\n",
      "dtype: <dtype: 'float32'>\n",
      "sigmoid(-1) = tf.Tensor(0.26894143, shape=(), dtype=float32)\n",
      "sigmoid(0) = tf.Tensor(0.5, shape=(), dtype=float32)\n",
      "sigmoid(12) = tf.Tensor(0.99999386, shape=(), dtype=float32)\n",
      "\u001b[92mAll test passed\n"
     ]
    }
   ],
   "source": [
    "# testing the function\n",
    "result = sigmoid(-1)\n",
    "print (\"type: \" + str(type(result)))\n",
    "print (\"dtype: \" + str(result.dtype))\n",
    "print (\"sigmoid(-1) = \" + str(result))\n",
    "print (\"sigmoid(0) = \" + str(sigmoid(0.0)))\n",
    "print (\"sigmoid(12) = \" + str(sigmoid(12)))\n",
    "\n",
    "def sigmoid_test(target):\n",
    "    result = target(0)\n",
    "    assert(type(result) == EagerTensor)\n",
    "    assert (result.dtype == tf.float32)\n",
    "    assert sigmoid(0) == 0.5, \"Error\"\n",
    "    assert sigmoid(-1) == 0.26894143, \"Error\"\n",
    "    assert sigmoid(12) == 0.99999386, \"Error\"\n",
    "\n",
    "    print(\"\\033[92mAll test passed\")\n",
    "\n",
    "sigmoid_test(sigmoid)"
   ]
  },
  {
   "attachments": {},
   "cell_type": "markdown",
   "metadata": {},
   "source": [
    "**One hot encodings**\n",
    "\n",
    "Convert categorical variables into a set of columns with values 0 or 1."
   ]
  },
  {
   "cell_type": "code",
   "execution_count": 17,
   "metadata": {},
   "outputs": [],
   "source": [
    "def one_hot_matrix(label, depth=6):\n",
    "    \"\"\"\n",
    "    Computes the one hot encoding for a single label\n",
    "    \n",
    "    Arguments:\n",
    "        label --  (int) Categorical labels\n",
    "        depth --  (int) Number of different classes that label can take\n",
    "\n",
    "    Returns:\n",
    "         one_hot -- tf.Tensor A single-column matrix with the one hot encoding.\n",
    "    \"\"\"\n",
    "\n",
    "    one_hot = tf.one_hot(label, depth, axis=0)\n",
    "    one_hot = tf.reshape(one_hot, (depth, 1))\n",
    "\n",
    "    return one_hot"
   ]
  },
  {
   "cell_type": "code",
   "execution_count": 18,
   "metadata": {},
   "outputs": [
    {
     "name": "stdout",
     "output_type": "stream",
     "text": [
      "tf.Tensor(\n",
      "[[0.]\n",
      " [1.]\n",
      " [0.]\n",
      " [0.]], shape=(4, 1), dtype=float32)\n",
      "\u001b[92mAll test passed\n"
     ]
    }
   ],
   "source": [
    "# testing the function\n",
    "def one_hot_matrix_test(target):\n",
    "    label = tf.constant(1)\n",
    "    depth = 4\n",
    "    result = target(label, depth)\n",
    "    print(result)\n",
    "    assert result.shape[0] == depth, \"Use the parameter depth\"\n",
    "    assert result.shape[1] == 1, f\"Reshape to have only 1 column\"\n",
    "    assert np.allclose(result,  [[0.], [1.], [0.], [0.]] ), \"Wrong output. Use tf.one_hot\"\n",
    "    result = target(3, depth)\n",
    "    assert np.allclose(result, [[0.], [0.], [0.], [1.]] ), \"Wrong output. Use tf.one_hot\"\n",
    "    \n",
    "    print(\"\\033[92mAll test passed\")\n",
    "\n",
    "one_hot_matrix_test(one_hot_matrix)\n"
   ]
  },
  {
   "cell_type": "code",
   "execution_count": 19,
   "metadata": {},
   "outputs": [],
   "source": [
    "new_y_test = y_test.map(one_hot_matrix)\n",
    "new_y_train = y_train.map(one_hot_matrix)"
   ]
  },
  {
   "cell_type": "code",
   "execution_count": 20,
   "metadata": {},
   "outputs": [
    {
     "name": "stdout",
     "output_type": "stream",
     "text": [
      "tf.Tensor(\n",
      "[[1.]\n",
      " [0.]\n",
      " [0.]\n",
      " [0.]\n",
      " [0.]\n",
      " [0.]], shape=(6, 1), dtype=float32)\n"
     ]
    }
   ],
   "source": [
    "print(next(iter(new_y_test)))"
   ]
  },
  {
   "attachments": {},
   "cell_type": "markdown",
   "metadata": {},
   "source": [
    "**Initialize the parameters**\n",
    "\n",
    "`tf.keras.initializers.GlorotNormal` draws samples from a truncated normal distribution centered in 0, with $stddev = \\sqrt{\\frac{2}{fan_{in} + fan_{out}}}$ where $fan_{in}$ is the number of input units and $fan_{out}$ is the number of output units, both in the weight tensor."
   ]
  },
  {
   "cell_type": "code",
   "execution_count": 21,
   "metadata": {},
   "outputs": [],
   "source": [
    "def initialize_parameters():\n",
    "    \"\"\"\n",
    "    Initializes parameters to build a neural network with TensorFlow. The shapes are:\n",
    "                        W1 : [25, 12288]\n",
    "                        b1 : [25, 1]\n",
    "                        W2 : [12, 25]\n",
    "                        b2 : [12, 1]\n",
    "                        W3 : [6, 12]\n",
    "                        b3 : [6, 1]\n",
    "    \n",
    "    Returns:\n",
    "    parameters -- a dictionary of tensors containing W1, b1, W2, b2, W3, b3\n",
    "    \"\"\"\n",
    "                                \n",
    "    initializer = tf.keras.initializers.GlorotNormal(seed=1)\n",
    "\n",
    "    W1 = tf.Variable(initializer(shape=(25,12288)))\n",
    "    b1 = tf.Variable(initializer(shape=(25,1)))\n",
    "    W2 = tf.Variable(initializer(shape=(12,25)))\n",
    "    b2 = tf.Variable(initializer(shape=(12,1)))\n",
    "    W3 = tf.Variable(initializer(shape=(6, 12)))\n",
    "    b3 = tf.Variable(initializer(shape=(6,1)))\n",
    "\n",
    "    parameters = {\n",
    "        'W1': W1,\n",
    "        'b1': b1,\n",
    "        'W2': W2,\n",
    "        'b2': b2,\n",
    "        'W3': W3,\n",
    "        'b3': b3\n",
    "    }\n",
    "\n",
    "    return parameters"
   ]
  },
  {
   "cell_type": "code",
   "execution_count": 22,
   "metadata": {},
   "outputs": [
    {
     "name": "stdout",
     "output_type": "stream",
     "text": [
      "W1 shape: (25, 12288)\n",
      "b1 shape: (25, 1)\n",
      "W2 shape: (12, 25)\n",
      "b2 shape: (12, 1)\n",
      "W3 shape: (6, 12)\n",
      "b3 shape: (6, 1)\n",
      "\u001b[92mAll test passed\n"
     ]
    }
   ],
   "source": [
    "# testing the function\n",
    "def initialize_parameters_test(target):\n",
    "    parameters = target()\n",
    "\n",
    "    values = {\"W1\": (25, 12288),\n",
    "              \"b1\": (25, 1),\n",
    "              \"W2\": (12, 25),\n",
    "              \"b2\": (12, 1),\n",
    "              \"W3\": (6, 12),\n",
    "              \"b3\": (6, 1)}\n",
    "\n",
    "    for key in parameters:\n",
    "        print(f\"{key} shape: {tuple(parameters[key].shape)}\")\n",
    "        assert type(parameters[key]) == ResourceVariable, \"All parameter must be created using tf.Variable\"\n",
    "        assert tuple(parameters[key].shape) == values[key], f\"{key}: wrong shape\"\n",
    "        assert np.abs(np.mean(parameters[key].numpy())) < 0.5,  f\"{key}: Use the GlorotNormal initializer\"\n",
    "        assert np.std(parameters[key].numpy()) > 0 and np.std(parameters[key].numpy()) < 1, f\"{key}: Use the GlorotNormal initializer\"\n",
    "\n",
    "    print(\"\\033[92mAll test passed\")\n",
    "    \n",
    "initialize_parameters_test(initialize_parameters)"
   ]
  },
  {
   "cell_type": "code",
   "execution_count": 23,
   "metadata": {},
   "outputs": [],
   "source": [
    "parameters = initialize_parameters()"
   ]
  },
  {
   "attachments": {},
   "cell_type": "markdown",
   "metadata": {},
   "source": [
    "### Building a Neural Network in Tensorflow"
   ]
  },
  {
   "attachments": {},
   "cell_type": "markdown",
   "metadata": {},
   "source": [
    "**Implementing forward propagation**\n",
    "\n",
    "`@tf.function` is a tensorflow decorator that builds a computational graph to execute the function. [More info](https://www.tensorflow.org/guide/function)."
   ]
  },
  {
   "cell_type": "code",
   "execution_count": 24,
   "metadata": {},
   "outputs": [],
   "source": [
    "@tf.function\n",
    "def forward_propagation(X, parameters):\n",
    "    \"\"\"\n",
    "    Implements the forward propagation for the model: LINEAR -> RELU -> LINEAR -> RELU -> LINEAR\n",
    "    \n",
    "    Arguments:\n",
    "    X -- input dataset placeholder, of shape (input size, number of examples)\n",
    "    parameters -- python dictionary containing your parameters \"W1\", \"b1\", \"W2\", \"b2\", \"W3\", \"b3\"\n",
    "                  the shapes are given in initialize_parameters\n",
    "\n",
    "    Returns:\n",
    "    Z3 -- the output of the last LINEAR unit\n",
    "    \"\"\"\n",
    "    \n",
    "    # Retrieve the parameters from the dictionary \"parameters\"\n",
    "    W1 = parameters['W1']\n",
    "    b1 = parameters['b1']\n",
    "    W2 = parameters['W2']\n",
    "    b2 = parameters['b2']\n",
    "    W3 = parameters['W3']\n",
    "    b3 = parameters['b3']\n",
    "\n",
    "    # compute forward propagation\n",
    "    Z1 = tf.math.add(tf.linalg.matmul(W1, X), b1)\n",
    "    A1 = tf.keras.activations.relu(Z1)\n",
    "    Z2 = tf.math.add(tf.linalg.matmul(W2, A1), b2)\n",
    "    A2 = tf.keras.activations.relu(Z2)\n",
    "    Z3 = tf.math.add(tf.linalg.matmul(W3, A2), b3)\n",
    "    \n",
    "    return Z3"
   ]
  },
  {
   "cell_type": "code",
   "execution_count": 25,
   "metadata": {},
   "outputs": [
    {
     "name": "stdout",
     "output_type": "stream",
     "text": [
      "tf.Tensor(\n",
      "[[-1.6999884]\n",
      " [ 0.6465866]\n",
      " [ 1.0545614]\n",
      " [-1.446655 ]\n",
      " [-0.6424109]\n",
      " [ 1.4200424]], shape=(6, 1), dtype=float32)\n",
      "\u001b[92mAll test passed\n"
     ]
    }
   ],
   "source": [
    "# testing the function\n",
    "def forward_propagation_test(target, examples):\n",
    "    for batch in examples:\n",
    "        forward_pass = target(batch, parameters)\n",
    "        assert type(forward_pass) == EagerTensor, \"Your output is not a tensor\"\n",
    "        assert forward_pass.shape == (6, 1), \"Last layer must use W3 and b3\"\n",
    "        assert np.any(forward_pass < 0), \"Don't use a ReLu layer at end of your network\"\n",
    "        assert np.allclose(forward_pass, \n",
    "                           [[-1.6999884],\n",
    "                           [0.6465866],\n",
    "                           [1.0545614],\n",
    "                           [-1.446655],\n",
    "                           [-0.6424109],\n",
    "                           [1.4200424]]), \"Output does not match\"\n",
    "        print(forward_pass)\n",
    "        break\n",
    "    \n",
    "\n",
    "    print(\"\\033[92mAll test passed\")\n",
    "\n",
    "forward_propagation_test(forward_propagation, new_train)"
   ]
  },
  {
   "attachments": {},
   "cell_type": "markdown",
   "metadata": {},
   "source": [
    "**Compute the cost**"
   ]
  },
  {
   "cell_type": "code",
   "execution_count": 26,
   "metadata": {},
   "outputs": [],
   "source": [
    "@tf.function\n",
    "def compute_cost(logits, labels):\n",
    "    \"\"\"\n",
    "    Computes the cost\n",
    "    \n",
    "    Arguments:\n",
    "    logits -- output of forward propagation (output of the last LINEAR unit), of shape (6, number of examples)\n",
    "    labels -- \"true\" labels vector, same shape as Z3\n",
    "    \n",
    "    Returns:\n",
    "    cost - Tensor of the cost function\n",
    "    \"\"\"\n",
    "\n",
    "    cost = tf.reduce_mean(tf.keras.losses.binary_crossentropy(y_true = labels, y_pred = logits, from_logits=True))\n",
    "\n",
    "    return cost\n"
   ]
  },
  {
   "cell_type": "code",
   "execution_count": 27,
   "metadata": {},
   "outputs": [
    {
     "name": "stdout",
     "output_type": "stream",
     "text": [
      "tf.Tensor(0.8419182681095858, shape=(), dtype=float64)\n",
      "\u001b[92mAll test passed\n"
     ]
    }
   ],
   "source": [
    "# testing the function\n",
    "def compute_cost_test(target):\n",
    "    labels = np.array([[0., 1.], [0., 0.], [1., 0.]])\n",
    "    logits = np.array([[0.6, 0.4], [0.4, 0.6], [0.4, 0.6]])\n",
    "    result = compute_cost(logits, labels)\n",
    "    print(result)\n",
    "    assert(type(result) == EagerTensor), \"Use the TensorFlow API\"\n",
    "    assert (np.abs(result - (0.7752516 +  0.9752516 + 0.7752516) / 3.0) < 1e-7), \"Test does not match. Did you get the mean of your cost functions?\"\n",
    "\n",
    "    print(\"\\033[92mAll test passed\")\n",
    "\n",
    "compute_cost_test(compute_cost)"
   ]
  },
  {
   "attachments": {},
   "cell_type": "markdown",
   "metadata": {},
   "source": [
    "**Train the model**"
   ]
  },
  {
   "cell_type": "code",
   "execution_count": 28,
   "metadata": {},
   "outputs": [],
   "source": [
    "def model(X_train, Y_train, X_test, Y_test, learning_rate = 0.0001, num_epochs = 1500, minibatch_size = 32, print_cost = True):\n",
    "    \"\"\"\n",
    "    Implements a three-layer tensorflow neural network: LINEAR->RELU->LINEAR->RELU->LINEAR->SOFTMAX.\n",
    "    \n",
    "    Arguments:\n",
    "    X_train -- training set, of shape (input size = 12288, number of training examples = 1080)\n",
    "    Y_train -- test set, of shape (output size = 6, number of training examples = 1080)\n",
    "    X_test -- training set, of shape (input size = 12288, number of training examples = 120)\n",
    "    Y_test -- test set, of shape (output size = 6, number of test examples = 120)\n",
    "    learning_rate -- learning rate of the optimization\n",
    "    num_epochs -- number of epochs of the optimization loop\n",
    "    minibatch_size -- size of a minibatch\n",
    "    print_cost -- True to print the cost every 100 epochs\n",
    "    \n",
    "    Returns:\n",
    "    parameters -- parameters learnt by the model. They can then be used to predict.\n",
    "    \"\"\"\n",
    "    \n",
    "    costs = []\n",
    "\n",
    "    # initialize parameters\n",
    "    parameters = initialize_parameters()\n",
    "\n",
    "    W1 = parameters['W1']\n",
    "    b1 = parameters['b1']\n",
    "    W2 = parameters['W2']\n",
    "    b2 = parameters['b2']\n",
    "    W3 = parameters['W3']\n",
    "    b3 = parameters['b3']\n",
    "\n",
    "    # define optimizer\n",
    "    optimizer = tf.keras.optimizers.Adam(learning_rate)\n",
    "\n",
    "    # define batch size\n",
    "    X_train = X_train.batch(minibatch_size, drop_remainder=True).prefetch(8) \n",
    "    Y_train = Y_train.batch(minibatch_size, drop_remainder=True).prefetch(8)\n",
    "\n",
    "    # training loop\n",
    "    for epoch in range(num_epochs):\n",
    "\n",
    "      epoch_cost = 0\n",
    "\n",
    "      for (minibatch_X, minibatch_Y) in zip(X_train, Y_train):\n",
    "            with tf.GradientTape() as tape:\n",
    "                  Z3 = forward_propagation(minibatch_X, parameters)\n",
    "                  minibatch_cost = compute_cost(Z3, minibatch_Y)\n",
    "\n",
    "            trainable_variables = [W1, b1, W2, b2, W3, b3]\n",
    "            grads = tape.gradient(minibatch_cost, trainable_variables)\n",
    "            optimizer.apply_gradients(zip(grads, trainable_variables))\n",
    "            epoch_cost += (minibatch_cost / minibatch_size)\n",
    "\n",
    "      if print_cost == True and epoch % 10 == 0:\n",
    "            print(f'Cost after epoch {epoch}: {epoch_cost}')\n",
    "      if print_cost == True and epoch % 5 == 0:\n",
    "            costs.append(epoch_cost)\n",
    "\n",
    "    # plot the cost\n",
    "    plt.plot(np.squeeze(costs))\n",
    "    plt.ylabel('cost')\n",
    "    plt.xlabel('iteration (per fives)')\n",
    "    plt.title(f'learning rate = {learning_rate}')\n",
    "    plt.show()\n",
    "\n",
    "    # save the parameters\n",
    "    print('Parameters have been trained!')\n",
    "    \n",
    "    return parameters"
   ]
  },
  {
   "cell_type": "code",
   "execution_count": 29,
   "metadata": {},
   "outputs": [
    {
     "name": "stdout",
     "output_type": "stream",
     "text": [
      "Cost after epoch 0: 2.6728713512420654\n",
      "Cost after epoch 10: 2.5963432788848877\n",
      "Cost after epoch 20: 2.5314979553222656\n",
      "Cost after epoch 30: 2.4715051651000977\n",
      "Cost after epoch 40: 2.4159281253814697\n",
      "Cost after epoch 50: 2.3644211292266846\n",
      "Cost after epoch 60: 2.31671142578125\n",
      "Cost after epoch 70: 2.2725794315338135\n",
      "Cost after epoch 80: 2.231842041015625\n",
      "Cost after epoch 90: 2.1943368911743164\n",
      "Cost after epoch 100: 2.1599137783050537\n",
      "Cost after epoch 110: 2.1284284591674805\n",
      "Cost after epoch 120: 2.099738359451294\n",
      "Cost after epoch 130: 2.073702573776245\n",
      "Cost after epoch 140: 2.050175428390503\n",
      "Cost after epoch 150: 2.0290141105651855\n",
      "Cost after epoch 160: 2.0100696086883545\n",
      "Cost after epoch 170: 1.9931944608688354\n",
      "Cost after epoch 180: 1.9782382249832153\n",
      "Cost after epoch 190: 1.965051293373108\n",
      "Cost after epoch 200: 1.9534845352172852\n",
      "Cost after epoch 210: 1.9433914422988892\n",
      "Cost after epoch 220: 1.934629201889038\n",
      "Cost after epoch 230: 1.9270609617233276\n",
      "Cost after epoch 240: 1.9205557107925415\n",
      "Cost after epoch 250: 1.9149925708770752\n",
      "Cost after epoch 260: 1.9102572202682495\n",
      "Cost after epoch 270: 1.9062459468841553\n",
      "Cost after epoch 280: 1.9028639793395996\n",
      "Cost after epoch 290: 1.900026559829712\n",
      "Cost after epoch 300: 1.8976565599441528\n",
      "Cost after epoch 310: 1.8956866264343262\n",
      "Cost after epoch 320: 1.894054651260376\n",
      "Cost after epoch 330: 1.8927090167999268\n",
      "Cost after epoch 340: 1.891602873802185\n",
      "Cost after epoch 350: 1.890696406364441\n",
      "Cost after epoch 360: 1.889955997467041\n",
      "Cost after epoch 370: 1.8893516063690186\n",
      "Cost after epoch 380: 1.888859748840332\n",
      "Cost after epoch 390: 1.8884599208831787\n",
      "Cost after epoch 400: 1.8881350755691528\n",
      "Cost after epoch 410: 1.8878713846206665\n",
      "Cost after epoch 420: 1.8876574039459229\n",
      "Cost after epoch 430: 1.8874835968017578\n",
      "Cost after epoch 440: 1.8873424530029297\n",
      "Cost after epoch 450: 1.8872276544570923\n",
      "Cost after epoch 460: 1.8871350288391113\n",
      "Cost after epoch 470: 1.8870593309402466\n",
      "Cost after epoch 480: 1.8869984149932861\n",
      "Cost after epoch 490: 1.8869481086730957\n"
     ]
    },
    {
     "data": {
      "image/png": "[encoded data removed]",
      "text/plain": [
       "<Figure size 640x480 with 1 Axes>"
      ]
     },
     "metadata": {},
     "output_type": "display_data"
    },
    {
     "name": "stdout",
     "output_type": "stream",
     "text": [
      "Parameters have been trained!\n"
     ]
    },
    {
     "data": {
      "text/plain": [
       "{'W1': <tf.Variable 'Variable:0' shape=(25, 12288) dtype=float32, numpy=\n",
       " array([[-0.02126303,  0.0039984 , -0.01407152, ...,  0.00256899,\n",
       "          0.00416768, -0.01197838],\n",
       "        [-0.00306418,  0.0054086 , -0.00568262, ..., -0.00307007,\n",
       "         -0.00444062,  0.01600167],\n",
       "        [ 0.01130269, -0.00020176, -0.00461518, ...,  0.0048945 ,\n",
       "         -0.00351967,  0.01075348],\n",
       "        ...,\n",
       "        [ 0.00905831, -0.01937189, -0.00437705, ..., -0.01060717,\n",
       "         -0.01325075,  0.00897861],\n",
       "        [ 0.01761359,  0.01275828, -0.00208231, ..., -0.01735994,\n",
       "         -0.01134041,  0.00496331],\n",
       "        [-0.00755536, -0.00654506,  0.00766105, ...,  0.02646794,\n",
       "          0.00744555, -0.0284807 ]], dtype=float32)>,\n",
       " 'b1': <tf.Variable 'Variable:0' shape=(25, 1) dtype=float32, numpy=\n",
       " array([[-0.05235177],\n",
       "        [-0.03777683],\n",
       "        [-0.37215972],\n",
       "        [ 0.11882801],\n",
       "        [ 0.42583638],\n",
       "        [-0.0046337 ],\n",
       "        [-0.03730996],\n",
       "        [-0.03547631],\n",
       "        [-0.14370558],\n",
       "        [ 0.24995518],\n",
       "        [ 0.21974558],\n",
       "        [-0.42982462],\n",
       "        [-0.19378622],\n",
       "        [-0.32137412],\n",
       "        [ 0.06210651],\n",
       "        [ 0.1799342 ],\n",
       "        [ 0.31866416],\n",
       "        [ 0.00170481],\n",
       "        [-0.49741113],\n",
       "        [ 0.20386791],\n",
       "        [ 0.33358902],\n",
       "        [ 0.05373568],\n",
       "        [ 0.01810325],\n",
       "        [-0.38682067],\n",
       "        [ 0.42827445]], dtype=float32)>,\n",
       " 'W2': <tf.Variable 'Variable:0' shape=(12, 25) dtype=float32, numpy=\n",
       " array([[-0.04799701, -0.23140462,  0.31021076,  0.2943012 ,  0.07559265,\n",
       "         -0.19280939, -0.02284178, -0.13924488, -0.0032637 ,  0.5270899 ,\n",
       "         -0.23531441, -0.07507567,  0.36905736,  0.20383897, -0.3409466 ,\n",
       "         -0.19453286, -0.38952857,  0.12392288,  0.22608986, -0.35568064,\n",
       "          0.25165504,  0.0534674 ,  0.04146796,  0.12125608, -0.14422183],\n",
       "        [-0.05530426,  0.28529707,  0.08484645, -0.356666  ,  0.19575283,\n",
       "         -0.41582805, -0.08158225,  0.00265568, -0.13215652, -0.1799275 ,\n",
       "         -0.0302327 , -0.0123155 ,  0.42666543,  0.32765618, -0.08848508,\n",
       "         -0.28875148,  0.40859997,  0.16388232, -0.19815107,  0.05112332,\n",
       "         -0.28889927, -0.15876678, -0.4408295 , -0.02668347,  0.32493812],\n",
       "        [ 0.19306108,  0.46893346, -0.10236148, -0.06806678, -0.06374361,\n",
       "          0.04606096, -0.0637749 , -0.01462722, -0.11158368,  0.03658363,\n",
       "         -0.36636338,  0.14848952,  0.04159112, -0.22786686, -0.22141367,\n",
       "         -0.36031535,  0.06448345, -0.33794656,  0.09349161, -0.28012747,\n",
       "          0.39759466,  0.2703671 , -0.19915916, -0.3638671 ,  0.08964922],\n",
       "        [-0.35974103, -0.21901375,  0.11053539, -0.05090713, -0.36578563,\n",
       "         -0.07356455, -0.02567879,  0.16714948, -0.46080536,  0.11418106,\n",
       "          0.34847206, -0.3717397 , -0.02121188,  0.4782117 , -0.00961355,\n",
       "          0.13638507,  0.12143341, -0.3724951 , -0.2639564 ,  0.3398769 ,\n",
       "          0.33512124,  0.21823525,  0.15917589,  0.47640517, -0.32425612],\n",
       "        [ 0.19707675,  0.09818997,  0.02634259, -0.21531609,  0.27494806,\n",
       "          0.03635104, -0.49170494,  0.1507097 ,  0.47503483, -0.19841363,\n",
       "         -0.10911628, -0.35651705,  0.10824739,  0.01293818, -0.21431483,\n",
       "          0.11990631, -0.23977259, -0.21203583, -0.2665761 , -0.19186446,\n",
       "         -0.40949735,  0.09024442,  0.2609171 ,  0.08297737,  0.08048262],\n",
       "        [-0.08871577,  0.11533763, -0.04798122,  0.27667367, -0.14314353,\n",
       "         -0.35583374,  0.23751184,  0.23163414,  0.05229811,  0.27659622,\n",
       "          0.01928282, -0.02103041, -0.0462619 ,  0.11468372, -0.4350989 ,\n",
       "         -0.11771392, -0.3448124 ,  0.08250449,  0.06699244,  0.0521136 ,\n",
       "         -0.4913322 , -0.1414297 , -0.50078636,  0.31868494, -0.34116971],\n",
       "        [ 0.22504264,  0.2402566 ,  0.14304987,  0.38297442, -0.17298111,\n",
       "         -0.40195972,  0.13844366,  0.01512306,  0.27387565, -0.00389589,\n",
       "         -0.12155366, -0.06204386,  0.006675  ,  0.23313735, -0.07690798,\n",
       "         -0.47698927, -0.16889435, -0.14523564,  0.08304146, -0.13252124,\n",
       "         -0.04048009,  0.02556015, -0.38419044,  0.26509467,  0.12715276],\n",
       "        [ 0.27243817,  0.24486105,  0.39545712,  0.01138504,  0.20260899,\n",
       "         -0.14084013, -0.12458341, -0.1592307 ,  0.26721752,  0.01552748,\n",
       "         -0.04738672, -0.3001174 ,  0.26896608,  0.08897363, -0.34068218,\n",
       "          0.21868889, -0.11895249,  0.099053  ,  0.28857967,  0.3802582 ,\n",
       "          0.27303782,  0.46826968, -0.05476101, -0.2363188 ,  0.2160214 ],\n",
       "        [ 0.08667586,  0.35413843, -0.40039372, -0.00904832, -0.0816191 ,\n",
       "         -0.43766642, -0.19157383,  0.16998568,  0.08472253,  0.1894528 ,\n",
       "         -0.2927413 , -0.04286797, -0.02176004,  0.30511546, -0.29719517,\n",
       "         -0.11692728,  0.2876385 ,  0.00578549,  0.25199118, -0.04102434,\n",
       "          0.07780492, -0.1670894 ,  0.03939225, -0.1779949 , -0.2853107 ],\n",
       "        [-0.14049104,  0.14134793, -0.29303783, -0.0070848 ,  0.09677458,\n",
       "         -0.15548778,  0.48920268, -0.08103091,  0.15467548, -0.2704763 ,\n",
       "         -0.12258887,  0.09259346,  0.39607537, -0.21590267, -0.1021431 ,\n",
       "          0.24906285,  0.06192448,  0.28046894, -0.38744327, -0.3477632 ,\n",
       "          0.09801175,  0.12133272, -0.28511626,  0.04297873, -0.24664544],\n",
       "        [ 0.39601874, -0.3472051 , -0.13370965,  0.26554656, -0.28270894,\n",
       "          0.06984901, -0.10826087, -0.06548673,  0.49704966, -0.05824218,\n",
       "         -0.01197186,  0.18643737, -0.27643633, -0.25253615, -0.37241924,\n",
       "         -0.12797388, -0.13516018,  0.10337879,  0.20625721, -0.07446623,\n",
       "         -0.12251431,  0.06524768, -0.03999615,  0.13641857,  0.25579286],\n",
       "        [ 0.03328221, -0.13147604,  0.19138594, -0.10086349, -0.21693964,\n",
       "         -0.19084945, -0.1257093 ,  0.11729968, -0.33911768,  0.10694648,\n",
       "          0.10805216,  0.28558007, -0.18270932, -0.43584657,  0.20030774,\n",
       "         -0.49803928, -0.0419699 ,  0.06689563,  0.38051048,  0.29213813,\n",
       "         -0.14657748, -0.09377296,  0.13287817,  0.07510505,  0.19023061]],\n",
       "       dtype=float32)>,\n",
       " 'b2': <tf.Variable 'Variable:0' shape=(12, 1) dtype=float32, numpy=\n",
       " array([[-0.01766716],\n",
       "        [ 0.41005853],\n",
       "        [-0.39368352],\n",
       "        [-0.08397066],\n",
       "        [-0.6988887 ],\n",
       "        [-0.25178194],\n",
       "        [-0.21156774],\n",
       "        [-0.12809332],\n",
       "        [-0.21238366],\n",
       "        [-0.40174475],\n",
       "        [ 0.50855273],\n",
       "        [-0.19741938]], dtype=float32)>,\n",
       " 'W3': <tf.Variable 'Variable:0' shape=(6, 12) dtype=float32, numpy=\n",
       " array([[-0.32276094,  0.106902  ,  0.31485313,  0.6350278 , -0.3771891 ,\n",
       "         -0.36157477, -0.44912946, -0.01512752, -0.4578034 , -0.03217441,\n",
       "          0.64834166, -0.7559503 ],\n",
       "        [-0.16657358, -0.03823262,  0.24524283,  0.26242784, -0.08202239,\n",
       "         -0.09890479, -0.30261463,  0.5580897 ,  0.06714904,  0.02204144,\n",
       "          0.23620589, -0.0764871 ],\n",
       "        [ 0.02194757,  0.04054543,  0.30786628,  0.06151598, -0.1262666 ,\n",
       "         -0.35765946, -0.31402567, -0.2553669 , -0.5052586 , -0.10658579,\n",
       "          0.07098493, -0.0362579 ],\n",
       "        [ 0.60736114, -0.16467254, -0.19652568,  0.19137247, -0.0834014 ,\n",
       "          0.01029553, -0.01768431,  0.33330667, -0.5259939 ,  0.38395777,\n",
       "         -0.3628349 ,  0.20175105],\n",
       "        [-0.23267223,  0.41688982,  0.1775213 , -0.00275334,  0.21092382,\n",
       "         -0.5655841 , -0.00960924, -0.6292311 , -0.30616385,  0.26365235,\n",
       "         -0.10550015,  0.19475015],\n",
       "        [-0.3017554 , -0.16301794, -0.10412457,  0.24285363, -0.4689769 ,\n",
       "          0.18466894, -0.37300593, -0.39961997,  0.21399353, -0.628766  ,\n",
       "         -0.09013558,  0.28995228]], dtype=float32)>,\n",
       " 'b3': <tf.Variable 'Variable:0' shape=(6, 1) dtype=float32, numpy=\n",
       " array([[-1.5578492],\n",
       "        [-1.6034658],\n",
       "        [-1.6096643],\n",
       "        [-1.5857556],\n",
       "        [-1.5933137],\n",
       "        [-1.5858164]], dtype=float32)>}"
      ]
     },
     "execution_count": 29,
     "metadata": {},
     "output_type": "execute_result"
    }
   ],
   "source": [
    "model(new_train, new_y_train, new_test, new_y_test, num_epochs=500, minibatch_size=16)"
   ]
  }
 ],
 "metadata": {
  "kernelspec": {
   "display_name": "Python 3",
   "language": "python",
   "name": "python3"
  },
  "language_info": {
   "codemirror_mode": {
    "name": "ipython",
    "version": 3
   },
   "file_extension": ".py",
   "mimetype": "text/x-python",
   "name": "python",
   "nbconvert_exporter": "python",
   "pygments_lexer": "ipython3",
   "version": "3.10.6 (main, Nov 14 2022, 16:10:14) [GCC 11.3.0]"
  },
  "orig_nbformat": 4,
  "vscode": {
   "interpreter": {
    "hash": "916dbcbb3f70747c44a77c7bcd40155683ae19c65e1c03b4aa3499c5328201f1"
   }
  }
 },
 "nbformat": 4,
 "nbformat_minor": 2
}
